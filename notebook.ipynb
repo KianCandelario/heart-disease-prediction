{
 "cells": [
  {
   "cell_type": "markdown",
   "metadata": {},
   "source": [
    "# Project Title: Heart Disease Prediction\n",
    "## Short Description:\n",
    "- Heart diseases are one of the leading causes of death globally. People with heart disease or who are at high risk of heart disease need early intervention to prevent future undesirable outcomes. In this project, we are going to use a dataset that contains 11 features considered vital in identifying people with heart disease, and we are going to test it with four machine learning models— *KNN, Decision Tree, Random Forest, and Naive Bayes*— that will predict the likelihood of a person having heart disease."
   ]
  },
  {
   "cell_type": "markdown",
   "metadata": {},
   "source": [
    "## About the dataset\n",
    "### Information about the features\n",
    "1. **Age:** *(years)*\n",
    "   - patient's age\n",
    "2. **Sex:** *(M: Male, F: Female)*\n",
    "   - patient's sex\n",
    "3. **ChestPainType:** *(TA: Typical Angina, ATA: Atypical Angina, NAP: Non-Anginal Pain, ASY: Asymptomatic)*\n",
    "   - type of patient's chest pain\n",
    "4. **RestingBP:** *(mm Hg)*\n",
    "   - resting blood pressure\n",
    "5. **Cholesterol:** *(mm/dl)*\n",
    "   - serum cholesterol\n",
    "6. **FastingBS:** *(1: if FastingBS > 120 mg/dl, 0: otherwise)*\n",
    "   - fasting blood sugar\n",
    "7. **RestingECG:** *[Normal: Normal, ST: having ST-T wave abnormality (T wave inversions and/or ST elevation or depression of > 0.05 mV), LVH: showing probable or definite left ventricular hypertrophy by Estes' criteria]*\n",
    "   - resting electrocardiogram results\n",
    "8. **MaxHR:** *(Numeric value between 60 and 202)*\n",
    "   - maximum heart rate achieved\n",
    "9.  **ExerciseAngina:** *(Y: Yes, N: No)*\n",
    "    - exercise-induced angina\n",
    "10. **Oldpeak:** *(Numeric value measured in depression)*\n",
    "    - oldpeak = ST \n",
    "    - ST depression refers to a finding on an electrocardiogram, wherein the trace in the ST segment is abnormally low below the baseline\n",
    "11. **ST_Slope:** *(Up: upsloping, Flat: flat, Down: downsloping)*\n",
    "    - the slope of the peak exercise ST segment\n",
    "12. **HeartDisease:** *(1: Heart disease, 0: Normal)*\n",
    "    - target output\n",
    "\n",
    "---\n",
    "\n",
    "To learn more about the *source, citation,* and the *creators* of the dataset, click [here](https://www.kaggle.com/datasets/fedesoriano/heart-failure-prediction).\n",
    "\n",
    "---"
   ]
  }
 ],
 "metadata": {
  "language_info": {
   "name": "python"
  }
 },
 "nbformat": 4,
 "nbformat_minor": 2
}
